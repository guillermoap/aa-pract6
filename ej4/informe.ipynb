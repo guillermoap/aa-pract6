{
 "cells": [
  {
   "cell_type": "markdown",
   "metadata": {},
   "source": [
    "# Práctico 6\n",
    "## Regresión lineal. Regresión logística. Redes Neuronales.\n",
    "\n",
    "### Grupo 6:\n",
    "     - Guillermo Aguirre  C.I. 4817028-5\n",
    "     - Bruno González C.I. 4815697-6\n",
    "     - Mauricio Irace C.I. 4924714-6"
   ]
  },
  {
   "cell_type": "markdown",
   "metadata": {},
   "source": [
    "## Instructivo\n",
    "Primero se deben instalar las dependencias corriendo `pip install -r requirements.txt` ubicado en la carpeta `ej4/`.\n",
    "\n",
    "La notebook ya presenta las corridas del código pero se puede correr manualmente.\n",
    "Corriendo `python run.py` se ejecutará el código. La parte de las matrices de confusión fue solo hecha en la notebook por una cuestión de prolijidad, ya que si no, se abrirían pestañas con todas las gráficas o se generarían imágenes locales.\n",
    "Lo que se imprime en la consola es el output de los mejores clasificadores con las medidas de accuracy, precisión, recall y medida-f para cada caso.\n",
    "\n",
    "## Regresión Logística\n",
    "\n",
    "La regresión logística es un método de clasificación al igual que los vistos en las otras tareas. La especificación es igual que en el caso de la regresión lineal, pero la predicción en vez de tomar valores continuos, toma valores discretos.\n",
    "\n",
    "Como clasificador de regresión logística se utilizó el LogisticRegression de sklearn.\n",
    "Dentro de los distintos algoritmos que se probaron para ver cual se ajustaba mejor a los datos se encuentran todos los soportados por dicho método: newton-cg, lbfgs, sag, saga, liblinear.\n",
    "\n",
    "El objetivo principal de este ejercicio era encontrar y analizar el modelo que mejor clasificaba el corpus de aquienvoto. Para ésto se utilizó la técnica de la validación cruzada.\n",
    "Este método consiste en dividir los datos de los que disponemos, utilizando unos para entrenar el modelo y evaluando o testeando con los que quedan libres. Este proceso se puede hacer cambiando varias veces los datos y variando el tamaño de la muestra. Gracias a este sistema podemos conocer como se puede comportar nuestro modelo con datos no utilizados para crearlo, asemejándose mucho más a lo que nos vamos a encontrar en la realidad.\n",
    "\n",
    "La validación cruzada se puede llevar a cabo de varias formas:\n",
    "La primera sería simplemente separar una parte de la muestra para entrenar el modelo y otra para testearlo, ésto fue lo que se hizo en la parte b del ejercicio. Esta es la forma más simple y la menos precisa ya que los resultados variarán mucho en función de las particiones que se elijan. Aquí se tomó 80% para el entrenamiento y 20% para la evaluación.\n",
    "\n",
    "Una segunda forma es la Validación Cruzada K-Fold. Aquí la muestra la divimos en K-subconjuntos. Uno de los conjuntos lo utilizamos como datos de prueba y los demás de entrenamiento. Vamos iterando en función de los K que hayamos establecido. De esta manera conseguimos evaluar toda la muestra.\n",
    "\n",
    "La segunda forma fue la utilizada en la parte c y d, para evaluar distintos clasificadores con distintos penalties.\n",
    "\n",
    "Los datos iniciales se filtraron, sacando a los candidatos y partidos que tuvieran menos de 1000 votos.\n",
    "Los partidos restantes fueron: Frente Amplio, Partido Nacional, Partido Colorado, Partido de la Gente y La Alternativa.\n",
    "Mientras que los candidatos restantes fueron: Carolina Cosse, Daniel Martínez, Edgardo Novick, Ernesto Talvi, Jorge Larrañaga, Juan Sartori, Julio María Sanguinetti, Luis Lacalle Pou, Mario Bergara, Oscar Andrade, Pablo Mieres.\n",
    "\n",
    "Para la parte de PCA en cada caso se probó con N = {1,...,5}, siendo N el número de componentes resultantes."
   ]
  },
  {
   "cell_type": "markdown",
   "metadata": {},
   "source": [
    "## Ejecución"
   ]
  },
  {
   "cell_type": "code",
   "execution_count": 1,
   "metadata": {},
   "outputs": [],
   "source": [
    "%matplotlib inline\n",
    "import warnings\n",
    "import datetime\n",
    "import pandas as pd\n",
    "import seaborn as sn\n",
    "from time import time\n",
    "from sklearn import metrics\n",
    "from sklearn.metrics import pairwise_distances, adjusted_rand_score, precision_score, recall_score, f1_score\n",
    "from sklearn.linear_model import LogisticRegressionCV\n",
    "from sklearn.model_selection import train_test_split\n",
    "from src.classifier import Classifier\n",
    "import matplotlib.pyplot as plt\n",
    "import numpy as np\n",
    "from pandas_ml import ConfusionMatrix\n",
    "from run import run"
   ]
  },
  {
   "cell_type": "code",
   "execution_count": 2,
   "metadata": {},
   "outputs": [
    {
     "name": "stdout",
     "output_type": "stream",
     "text": [
      "party\n",
      "Frente Amplio          12421\n",
      "La Alternativa          1037\n",
      "Partido Colorado        7268\n",
      "Partido Nacional        8027\n",
      "Partido de la Gente     1201\n",
      "Name: party, dtype: int64\n",
      "name\n",
      "Carolina Cosse             4062\n",
      "Daniel Martínez            5209\n",
      "Edgardo Novick             1201\n",
      "Ernesto Talvi              5515\n",
      "Jorge Larrañaga            1345\n",
      "Juan Sartori               1835\n",
      "Julio María Sanguinetti    1753\n",
      "Luis Lacalle Pou           4847\n",
      "Mario Bergara              1696\n",
      "Oscar Andrade              1454\n",
      "Pablo Mieres               1037\n",
      "Name: name, dtype: int64\n",
      "----------------------------------------\n",
      "######### CANDIDATOS | ('saga', 'l2', 5, 0.38926766238853244) #########\n",
      "accuracy: 0.3875813720580871\n",
      "precision: 0.3875813720580871\n",
      "recall: 0.3875813720580871\n",
      "f1: 0.3875813720580872\n",
      "----------------------------------------\n",
      "----------------------------------------\n",
      "######### CANDIDATOS_PCA | ('saga', 'l1', 3, 0.3781655965893708), 4 #########\n",
      "accuracy: 0.3411784343181439\n",
      "precision: 0.3411784343181439\n",
      "recall: 0.3411784343181439\n",
      "f1: 0.3411784343181439\n",
      "----------------------------------------\n",
      "----------------------------------------\n",
      "######### PARTIDOS | ('newton-cg', 'l2', 5, 0.663899153085017) #########\n",
      "accuracy: 0.6703388415957269\n",
      "precision: 0.6703388415957269\n",
      "recall: 0.6703388415957269\n",
      "f1: 0.6703388415957269\n",
      "----------------------------------------\n",
      "----------------------------------------\n",
      "######### PARTIDOS_PCA | ('newton-cg', 'l2', 3, 0.6537580546294001), 4 #########\n",
      "accuracy: 0.5758637956935403\n",
      "precision: 0.5758637956935403\n",
      "recall: 0.5758637956935403\n",
      "f1: 0.5758637956935403\n",
      "----------------------------------------\n",
      "----------------------------------------\n",
      "######### PARTIDOS CON CANDIDATO | ('saga', 'l2', 5, 0.38926766238853244) #########\n",
      "accuracy: 0.6554832248372559\n",
      "precision: 0.6554832248372559\n",
      "recall: 0.6554832248372559\n",
      "f1: 0.6554832248372559\n",
      "----------------------------------------\n",
      "----------------------------------------\n",
      "TOTAL TIME: 0:15:42.275530\n"
     ]
    }
   ],
   "source": [
    "result = run()"
   ]
  },
  {
   "cell_type": "code",
   "execution_count": 18,
   "metadata": {},
   "outputs": [],
   "source": [
    "actual = list(result['results']['candidatos'][0])\n",
    "pred = list(result['results']['candidatos'][1])\n",
    "cm_cand = ConfusionMatrix(actual, pred)\n",
    "\n",
    "actual = list(result['results']['candidatos_pca'][0])\n",
    "pred = list(result['results']['candidatos_pca'][1])\n",
    "cm_pca_cand = ConfusionMatrix(actual, pred)\n",
    "\n",
    "actual = list(result['results']['partidos'][0])\n",
    "pred = list(result['results']['partidos'][1])\n",
    "cm_part = ConfusionMatrix(actual, pred)\n",
    "\n",
    "actual = list(result['results']['partidos_pca'][0])\n",
    "pred = list(result['results']['partidos_pca'][1])\n",
    "cm_pca_part = ConfusionMatrix(actual, pred)\n",
    "\n",
    "actual = list(result['results']['partidos_candidatos'][0])\n",
    "pred = list(result['results']['partidos_candidatos'][1])\n",
    "cm_cand_part = ConfusionMatrix(actual, pred)"
   ]
  },
  {
   "cell_type": "markdown",
   "metadata": {},
   "source": [
    "## Análisis de clasificaciones\n",
    "\n",
    "Como podemos ver de los resultados de la ejecución, la clasificación utilizando PCA fue en todos los casos menor a utilizar los datos originales. Esto concuerda con el sentido común, ya que al reducir el número de componentes se tiene una pérdida de información que en este caso se vió reflejada con una precisión menor.\n",
    "\n",
    "Algo que pueda explicar la mala clasificación de los candidatos puede ser que las preguntas son preguntas bastante generales, en el sentido de que la misma respuesta a una pregunta puede asociarse a varios candidatos.\n",
    "Por ejemplo: *Las FF.AA. deberían tener un rol activo en la seguridad pública.* Ésta pregunta seguramente tenga la misma respuesta por gente que comparte ideología, haciendo difícil la diferenciación de a qué candidato votarían.\n",
    "\n",
    "Lo interesante de ver también es que la clasificación de candidatos fue, en promedio, la mitad de precisa que la de partidos, incluso en el caso donde se utilizó el clasificador de candidatos y se mapearon los resultados a los partidos. Creemos que esto se debe en parte por el margen de error que existe entre clasificar mal un candidato y clasificar mal un partido. \n",
    "Ejemplificando este punto anterior: Si tengo que clasificar a Cosse y lo clasifico como Martínez para el clasificador de candidatos esto está mal, pero si se da lo mismo en el de partidos sería una clasificación correcta. Tiene sentido que las respuestas que dan a un candidato estén relacionadas con los otros candidatos del mismo partido, llevando a que se puedan 'agrupar' más entre sí los partidos, haciendo más precisa la clasificación. \n",
    "A su vez el problema de las preguntas planteado anteriormente puede ser otra de las razones por las cuales el clasificador de partidos tuvo una mejor precisión, ya que el tipo de pregunta genérica si sirve para diferenciar personas con ideologías distintas."
   ]
  },
  {
   "cell_type": "markdown",
   "metadata": {},
   "source": [
    "## Matrices de confusión"
   ]
  },
  {
   "cell_type": "markdown",
   "metadata": {},
   "source": [
    "#### Clasificador de candidatos (algoritmo: saga, penalty: l2, k-plot: 5)"
   ]
  },
  {
   "cell_type": "code",
   "execution_count": 15,
   "metadata": {},
   "outputs": [
    {
     "data": {
      "text/plain": [
       "<matplotlib.axes._subplots.AxesSubplot at 0x11ea37358>"
      ]
     },
     "execution_count": 15,
     "metadata": {},
     "output_type": "execute_result"
    },
    {
     "data": {
      "image/png": "[encoded data removed]",
      "text/plain": [
       "<Figure size 648x576 with 2 Axes>"
      ]
     },
     "metadata": {
      "needs_background": "light"
     },
     "output_type": "display_data"
    }
   ],
   "source": [
    "cm_cand.plot()"
   ]
  },
  {
   "cell_type": "markdown",
   "metadata": {},
   "source": [
    "#### Clasificador de candidatos con PCA (algoritmo: saga, penalty: l1, k-plot: 3, componentes: 4)"
   ]
  },
  {
   "cell_type": "code",
   "execution_count": 17,
   "metadata": {},
   "outputs": [
    {
     "data": {
      "text/plain": [
       "<matplotlib.axes._subplots.AxesSubplot at 0x11eccd6d8>"
      ]
     },
     "execution_count": 17,
     "metadata": {},
     "output_type": "execute_result"
    },
    {
     "data": {
      "image/png": "[encoded data removed]",
      "text/plain": [
       "<Figure size 648x576 with 2 Axes>"
      ]
     },
     "metadata": {
      "needs_background": "light"
     },
     "output_type": "display_data"
    }
   ],
   "source": [
    "cm_pca_cand.plot()"
   ]
  },
  {
   "cell_type": "markdown",
   "metadata": {},
   "source": [
    "#### Clasificador de partidos (algoritmo: newton-cg, penalty: l2, k-plot: 5)"
   ]
  },
  {
   "cell_type": "code",
   "execution_count": 19,
   "metadata": {},
   "outputs": [
    {
     "data": {
      "text/plain": [
       "<matplotlib.axes._subplots.AxesSubplot at 0x11ed6f198>"
      ]
     },
     "execution_count": 19,
     "metadata": {},
     "output_type": "execute_result"
    },
    {
     "data": {
      "image/png": "[encoded data removed]",
      "text/plain": [
       "<Figure size 648x576 with 2 Axes>"
      ]
     },
     "metadata": {
      "needs_background": "light"
     },
     "output_type": "display_data"
    }
   ],
   "source": [
    "cm_part.plot()"
   ]
  },
  {
   "cell_type": "markdown",
   "metadata": {},
   "source": [
    "#### Clasificador de partidos (algoritmo: newton-cg, penalty: l2, k-plot: 3, componentes: 4)"
   ]
  },
  {
   "cell_type": "code",
   "execution_count": 20,
   "metadata": {},
   "outputs": [
    {
     "data": {
      "text/plain": [
       "<matplotlib.axes._subplots.AxesSubplot at 0x11f124f98>"
      ]
     },
     "execution_count": 20,
     "metadata": {},
     "output_type": "execute_result"
    },
    {
     "data": {
      "image/png": "[encoded data removed]",
      "text/plain": [
       "<Figure size 648x576 with 2 Axes>"
      ]
     },
     "metadata": {
      "needs_background": "light"
     },
     "output_type": "display_data"
    }
   ],
   "source": [
    "cm_pca_part.plot()"
   ]
  },
  {
   "cell_type": "markdown",
   "metadata": {},
   "source": [
    "#### Clasificador de candidatos (algoritmo: saga, penalty: l2, k-plot: 5)"
   ]
  },
  {
   "cell_type": "code",
   "execution_count": 21,
   "metadata": {},
   "outputs": [
    {
     "data": {
      "text/plain": [
       "<matplotlib.axes._subplots.AxesSubplot at 0x11f627780>"
      ]
     },
     "execution_count": 21,
     "metadata": {},
     "output_type": "execute_result"
    },
    {
     "data": {
      "image/png": "[encoded data removed]",
      "text/plain": [
       "<Figure size 648x576 with 2 Axes>"
      ]
     },
     "metadata": {
      "needs_background": "light"
     },
     "output_type": "display_data"
    }
   ],
   "source": [
    "cm_cand_part.plot()"
   ]
  },
  {
   "cell_type": "markdown",
   "metadata": {},
   "source": [
    "## Análisis de matrices de confusión\n",
    "\n",
    "En las matrices de confusión de candidatos se puede apreciar una clara distinción entre Daniel Martínez, Luis Lacalle Pou y Ernesto Talvi. Excepto por Talvi, los otros dos candidatos son los que lideran las encuestas por sus partidos.\n",
    "Puede ser que pase esto por el cesgo de la cantidad de 'votos' que hay en el data set para estos candidatos y por eso sea capaz de clasificarlos mejor.\n",
    "Lo que se puede apreciar también es que confundió en varias ocasiones a Talvi con Lacalle Pou, indicando que puede ser que los votantes de éstos dos candidatos compartan principios e ideologías. Se da la casualidad de que Talvi y Lacalle Pou mantienen propuestas muy parecidas respecto al gasto público, entre otras cosas.\n",
    "También hay una clara similaridad entre Martínez y Cosse, siendo estos los que lideran las encuestas y teniendo perfiles muy parecidos entre sí. Ambos ingenieros y directores de entes públicos, los cuales adiheren a las propuestas conjuntas que hace como partido el FA.\n",
    "\n",
    "En las matrices de partidos se ve claramente una diferencia de ideologías, por más que no nos guste la separación lineal entre 'izquierda' y 'derecha', la clasificación refleja una seguridad considerable cuando del FA se trata y una menor precisión cuando trata de asignar las respuestas al PN o al PC. Demostrando que dentro del corpus estudiado existe una antítesis entre votantes de 'izquierda' y votantes de 'derecha'."
   ]
  },
  {
   "cell_type": "code",
   "execution_count": null,
   "metadata": {},
   "outputs": [],
   "source": []
  }
 ],
 "metadata": {
  "kernelspec": {
   "display_name": "Python 3",
   "language": "python",
   "name": "python3"
  },
  "language_info": {
   "codemirror_mode": {
    "name": "ipython",
    "version": 3
   },
   "file_extension": ".py",
   "mimetype": "text/x-python",
   "name": "python",
   "nbconvert_exporter": "python",
   "pygments_lexer": "ipython3",
   "version": "3.6.5"
  }
 },
 "nbformat": 4,
 "nbformat_minor": 1
}
