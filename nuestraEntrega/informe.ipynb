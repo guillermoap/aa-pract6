{
 "cells": [
  {
   "cell_type": "markdown",
   "metadata": {},
   "source": [
    "# Práctico 6\n",
    "## Regresión lineal. Regresión logística. Redes Neuronales.\n",
    "\n",
    "### Grupo 6:\n",
    "     - Guillermo Aguirre  C.I. 4817028-5\n",
    "     - Bruno González C.I. 4815697-6\n",
    "     - Mauricio Irace C.I. 4924714-6"
   ]
  },
  {
   "cell_type": "code",
   "execution_count": 2,
   "metadata": {},
   "outputs": [],
   "source": [
    "%matplotlib inline\n",
    "import warnings\n",
    "import datetime\n",
    "import pandas as pd\n",
    "import seaborn as sn\n",
    "from time import time\n",
    "from sklearn import metrics\n",
    "from sklearn.metrics import pairwise_distances, adjusted_rand_score, precision_score, recall_score, f1_score, confusion_matrix\n",
    "from sklearn.linear_model import LogisticRegressionCV\n",
    "from sklearn.model_selection import train_test_split\n",
    "from src.classifier import Classifier\n",
    "import matplotlib.pyplot as plt\n",
    "import numpy as np\n",
    "from pandas_ml import ConfusionMatrix\n",
    "from run import run"
   ]
  },
  {
   "cell_type": "code",
   "execution_count": 3,
   "metadata": {},
   "outputs": [
    {
     "name": "stdout",
     "output_type": "stream",
     "text": [
      "----------------------------------------\n",
      "######### CANDIDATOS | ('saga', 'l1', 5, 0.3794442326299837) #########\n",
      "score: micro, macro\n",
      "precision: 0.36541889483065954, 0.1502503088568341\n",
      "recall: 0.36541889483065954, 0.13684318753939953\n",
      "f1: 0.36541889483065954, 0.11773537773119323\n",
      "----------------------------------------\n",
      "----------------------------------------\n",
      "######### CANDIDATOS_PCA | ('sag', 'l2', 3, 0.36793470251004323), 4 #########\n",
      "score: micro, macro\n",
      "precision: 0.35423756279371255, 0.10281082776859068\n",
      "recall: 0.35423756279371255, 0.12779658652144502\n",
      "f1: 0.3542375627937125, 0.10588318537681876\n",
      "----------------------------------------\n",
      "----------------------------------------\n",
      "######### PARTIDOS | ('sag', 'l2', 3, 0.6607914623868137) #########\n",
      "score: micro, macro\n",
      "precision: 0.6624534111165127, 0.3745619434022078\n",
      "recall: 0.6624534111165127, 0.404091670535318\n",
      "f1: 0.6624534111165127, 0.38777359205891193\n",
      "----------------------------------------\n",
      "----------------------------------------\n",
      "######### PARTIDOS_PCA | ('lbfgs', 'l2', 5, 0.6498516953830503), 4 #########\n",
      "score: micro, macro\n",
      "precision: 0.6507859342083941, 0.36528589232531816\n",
      "recall: 0.6507859342083941, 0.39416128619362467\n",
      "f1: 0.6507859342083941, 0.37723485668405726\n",
      "----------------------------------------\n",
      "----------------------------------------\n",
      "######### PARTIDO | ('saga', 'l1', 5, 0.3794442326299837) #########\n",
      "score: micro, macro\n",
      "precision: 0.645924485496678, 0.36723139329239457\n",
      "recall: 0.645924485496678, 0.39485641767292473\n",
      "f1: 0.645924485496678, 0.3802267253138247\n",
      "----------------------------------------\n",
      "----------------------------------------\n",
      "TOTAL TIME: 0:16:18.551892\n"
     ]
    }
   ],
   "source": [
    "run()"
   ]
  },
  {
   "cell_type": "markdown",
   "metadata": {},
   "source": [
    "Como clasificador de regresión logística se utilizó el LogisticRegression de sklearn.\n",
    "Dentro de los distintos algoritmos que se probaron para ver cual se ajustaba mejor a los datos se encuentran todos los soportados por dicho método:"
   ]
  }
 ],
 "metadata": {
  "kernelspec": {
   "display_name": "Python 3",
   "language": "python",
   "name": "python3"
  },
  "language_info": {
   "codemirror_mode": {
    "name": "ipython",
    "version": 3
   },
   "file_extension": ".py",
   "mimetype": "text/x-python",
   "name": "python",
   "nbconvert_exporter": "python",
   "pygments_lexer": "ipython3",
   "version": "3.7.2"
  }
 },
 "nbformat": 4,
 "nbformat_minor": 1
}
